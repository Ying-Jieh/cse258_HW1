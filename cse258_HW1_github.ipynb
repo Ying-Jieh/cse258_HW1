{
  "nbformat": 4,
  "nbformat_minor": 0,
  "metadata": {
    "colab": {
      "provenance": [],
      "toc_visible": true
    },
    "kernelspec": {
      "name": "python3",
      "display_name": "Python 3"
    },
    "language_info": {
      "name": "python"
    }
  },
  "cells": [
    {
      "cell_type": "markdown",
      "source": [
        "# Predict the rating of books or beers"
      ],
      "metadata": {
        "id": "PZJdbS9ooL63"
      }
    },
    {
      "cell_type": "markdown",
      "source": [
        "## Books rating prediction (regression)\n",
        "\n",
        "Using the book review data, let’s see whether ratings can be predicted as a function of review length, or by using temporal features associated with a review.\n",
        "\n",
        "Dataset:\n",
        "GoodReads Fantacy Reviews: https://cseweb.ucsd.edu/classes/fa23/cse258-a/data/fantasy_10000.json.gz\n",
        "\n",
        "Executing the code requires a working install of Python 2.7 or Python 3 with the scipy packages installed."
      ],
      "metadata": {
        "id": "oRTf_e_-oN4f"
      }
    },
    {
      "cell_type": "code",
      "source": [
        "# import some library\n",
        "import gzip # for opening the .gz file\n",
        "import json # for opening the .json file\n",
        "import sklearn # for linear model\n",
        "from sklearn import linear_model\n",
        "import numpy # for plotting the fitting line\n",
        "import matplotlib.pyplot as plt # for plotting the fitting line"
      ],
      "metadata": {
        "id": "ykV6Bg05okVo"
      },
      "execution_count": 1,
      "outputs": []
    },
    {
      "cell_type": "code",
      "execution_count": 2,
      "metadata": {
        "colab": {
          "base_uri": "https://localhost:8080/"
        },
        "id": "_qFV9MIYoGPv",
        "outputId": "5b65d097-b8ea-47ea-9d38-508a51a932a7"
      },
      "outputs": [
        {
          "output_type": "stream",
          "name": "stdout",
          "text": [
            "--2023-11-25 19:09:12--  https://cseweb.ucsd.edu/classes/fa23/cse258-a/data/fantasy_10000.json.gz\n",
            "Resolving cseweb.ucsd.edu (cseweb.ucsd.edu)... 132.239.8.30\n",
            "Connecting to cseweb.ucsd.edu (cseweb.ucsd.edu)|132.239.8.30|:443... connected.\n",
            "HTTP request sent, awaiting response... 200 OK\n",
            "Length: 3798634 (3.6M) [application/x-gzip]\n",
            "Saving to: ‘fantasy_10000.json.gz’\n",
            "\n",
            "\rfantasy_10000.json.   0%[                    ]       0  --.-KB/s               \rfantasy_10000.json. 100%[===================>]   3.62M  --.-KB/s    in 0.1s    \n",
            "\n",
            "2023-11-25 19:09:12 (33.1 MB/s) - ‘fantasy_10000.json.gz’ saved [3798634/3798634]\n",
            "\n"
          ]
        }
      ],
      "source": [
        "# Get the data\n",
        "!wget 'https://cseweb.ucsd.edu/classes/fa23/cse258-a/data/fantasy_10000.json.gz'\n",
        "f = gzip.open(\"fantasy_10000.json.gz\")\n",
        "dataset = []\n",
        "for l in f:\n",
        "    dataset.append(json.loads(l))\n",
        "\n",
        "f.close()"
      ]
    },
    {
      "cell_type": "code",
      "source": [
        "# Let's see what the data looks like\n",
        "dataset[0]"
      ],
      "metadata": {
        "colab": {
          "base_uri": "https://localhost:8080/"
        },
        "id": "op-cfCbwogJR",
        "outputId": "71eec472-55fb-4962-fcd2-13af9d229da1"
      },
      "execution_count": 3,
      "outputs": [
        {
          "output_type": "execute_result",
          "data": {
            "text/plain": [
              "{'user_id': '8842281e1d1347389f2ab93d60773d4d',\n",
              " 'book_id': '18245960',\n",
              " 'review_id': 'dfdbb7b0eb5a7e4c26d59a937e2e5feb',\n",
              " 'rating': 5,\n",
              " 'review_text': 'This is a special book. It started slow for about the first third, then in the middle third it started to get interesting, then the last third blew my mind. This is what I love about good science fiction - it pushes your thinking about where things can go. \\n It is a 2015 Hugo winner, and translated from its original Chinese, which made it interesting in just a different way from most things I\\'ve read. For instance the intermixing of Chinese revolutionary history - how they kept accusing people of being \"reactionaries\", etc. \\n It is a book about science, and aliens. The science described in the book is impressive - its a book grounded in physics and pretty accurate as far as I could tell. Though when it got to folding protons into 8 dimensions I think he was just making stuff up - interesting to think about though. \\n But what would happen if our SETI stations received a message - if we found someone was out there - and the person monitoring and answering the signal on our side was disillusioned? That part of the book was a bit dark - I would like to think human reaction to discovering alien civilization that is hostile would be more like Enders Game where we would band together. \\n I did like how the book unveiled the Trisolaran culture through the game. It was a smart way to build empathy with them and also understand what they\\'ve gone through across so many centuries. And who know a 3 body problem was an unsolvable math problem? But I still don\\'t get who made the game - maybe that will come in the next book. \\n I loved this quote: \\n \"In the long history of scientific progress, how many protons have been smashed apart in accelerators by physicists? How many neutrons and electrons? Probably no fewer than a hundred million. Every collision was probably the end of the civilizations and intelligences in a microcosmos. In fact, even in nature, the destruction of universes must be happening at every second--for example, through the decay of neutrons. Also, a high-energy cosmic ray entering the atmosphere may destroy thousands of such miniature universes....\"',\n",
              " 'date_added': 'Sun Jul 30 07:44:10 -0700 2017',\n",
              " 'date_updated': 'Wed Aug 30 00:00:26 -0700 2017',\n",
              " 'read_at': 'Sat Aug 26 12:05:52 -0700 2017',\n",
              " 'started_at': 'Tue Aug 15 13:23:18 -0700 2017',\n",
              " 'n_votes': 28,\n",
              " 'n_comments': 1}"
            ]
          },
          "metadata": {},
          "execution_count": 3
        }
      ]
    },
    {
      "cell_type": "markdown",
      "source": [
        "### 1. Train a simple predictor that estimate rating from review length\n",
        "\n",
        "> star rating ≃ θ𝟢 + θ𝟣*[review length in characters]\n",
        "\n",
        "The model will calculate θ𝟢 and θ𝟣 based on the features and label we give.\n",
        "\n",
        "Rather than using the review length directly, we'll scale the feature to be between 0 and 1 by dividing by the maximum review length in the dataset."
      ],
      "metadata": {
        "id": "UJ1TeEV3pScq"
      }
    },
    {
      "cell_type": "code",
      "source": [
        "# Get maximun review length from training data\n",
        "maxLen = max([len(d['review_text']) for d in dataset])\n",
        "maxLen"
      ],
      "metadata": {
        "colab": {
          "base_uri": "https://localhost:8080/"
        },
        "id": "3hZZ75pVo62R",
        "outputId": "93b50f6f-c584-41e4-f21d-d483c87238e9"
      },
      "execution_count": 4,
      "outputs": [
        {
          "output_type": "execute_result",
          "data": {
            "text/plain": [
              "14306"
            ]
          },
          "metadata": {},
          "execution_count": 4
        }
      ]
    },
    {
      "cell_type": "code",
      "source": [
        "# function for creating the feature\n",
        "def feature(datum):\n",
        "  feat = []\n",
        "  feat.append(1) # offest term\n",
        "  feat.append(len(datum['review_text']) / maxLen) # append the normalized length of review\n",
        "  return feat"
      ],
      "metadata": {
        "id": "iFq2IPnzrGSs"
      },
      "execution_count": 5,
      "outputs": []
    },
    {
      "cell_type": "code",
      "source": [
        "# Create features X and labels y\n",
        "X = [feature(d) for d in dataset]\n",
        "y = [d['rating'] for d in dataset]"
      ],
      "metadata": {
        "id": "cDPzuP0Brtmr"
      },
      "execution_count": 6,
      "outputs": []
    },
    {
      "cell_type": "code",
      "source": [
        "X[:5], y[:5]"
      ],
      "metadata": {
        "colab": {
          "base_uri": "https://localhost:8080/"
        },
        "id": "rbG1TPCwsFlF",
        "outputId": "ddae26af-635c-4dbf-875b-169befa0d95a"
      },
      "execution_count": 7,
      "outputs": [
        {
          "output_type": "execute_result",
          "data": {
            "text/plain": [
              "([[1, 0.14581294561722355],\n",
              "  [1, 0.10631902698168601],\n",
              "  [1, 0.1061792254997903],\n",
              "  [1, 0.1251922270376066],\n",
              "  [1, 0.12316510555011884]],\n",
              " [5, 5, 5, 4, 3])"
            ]
          },
          "metadata": {},
          "execution_count": 7
        }
      ]
    },
    {
      "cell_type": "markdown",
      "source": [
        "sklearn linear regression model: https://scikit-learn.org/stable/modules/generated/sklearn.linear_model.LinearRegression.html"
      ],
      "metadata": {
        "id": "AgYNW_wvt7mJ"
      }
    },
    {
      "cell_type": "code",
      "source": [
        "# Fit a linear regression model to the data (sklearn)\n",
        "model = linear_model.LinearRegression(fit_intercept=False)\n",
        "model.fit(X, y)"
      ],
      "metadata": {
        "colab": {
          "base_uri": "https://localhost:8080/",
          "height": 75
        },
        "id": "urWr-E2tszid",
        "outputId": "73b89b86-79b2-4231-8d4b-f440f0386c90"
      },
      "execution_count": 8,
      "outputs": [
        {
          "output_type": "execute_result",
          "data": {
            "text/plain": [
              "LinearRegression(fit_intercept=False)"
            ],
            "text/html": [
              "<style>#sk-container-id-1 {color: black;background-color: white;}#sk-container-id-1 pre{padding: 0;}#sk-container-id-1 div.sk-toggleable {background-color: white;}#sk-container-id-1 label.sk-toggleable__label {cursor: pointer;display: block;width: 100%;margin-bottom: 0;padding: 0.3em;box-sizing: border-box;text-align: center;}#sk-container-id-1 label.sk-toggleable__label-arrow:before {content: \"▸\";float: left;margin-right: 0.25em;color: #696969;}#sk-container-id-1 label.sk-toggleable__label-arrow:hover:before {color: black;}#sk-container-id-1 div.sk-estimator:hover label.sk-toggleable__label-arrow:before {color: black;}#sk-container-id-1 div.sk-toggleable__content {max-height: 0;max-width: 0;overflow: hidden;text-align: left;background-color: #f0f8ff;}#sk-container-id-1 div.sk-toggleable__content pre {margin: 0.2em;color: black;border-radius: 0.25em;background-color: #f0f8ff;}#sk-container-id-1 input.sk-toggleable__control:checked~div.sk-toggleable__content {max-height: 200px;max-width: 100%;overflow: auto;}#sk-container-id-1 input.sk-toggleable__control:checked~label.sk-toggleable__label-arrow:before {content: \"▾\";}#sk-container-id-1 div.sk-estimator input.sk-toggleable__control:checked~label.sk-toggleable__label {background-color: #d4ebff;}#sk-container-id-1 div.sk-label input.sk-toggleable__control:checked~label.sk-toggleable__label {background-color: #d4ebff;}#sk-container-id-1 input.sk-hidden--visually {border: 0;clip: rect(1px 1px 1px 1px);clip: rect(1px, 1px, 1px, 1px);height: 1px;margin: -1px;overflow: hidden;padding: 0;position: absolute;width: 1px;}#sk-container-id-1 div.sk-estimator {font-family: monospace;background-color: #f0f8ff;border: 1px dotted black;border-radius: 0.25em;box-sizing: border-box;margin-bottom: 0.5em;}#sk-container-id-1 div.sk-estimator:hover {background-color: #d4ebff;}#sk-container-id-1 div.sk-parallel-item::after {content: \"\";width: 100%;border-bottom: 1px solid gray;flex-grow: 1;}#sk-container-id-1 div.sk-label:hover label.sk-toggleable__label {background-color: #d4ebff;}#sk-container-id-1 div.sk-serial::before {content: \"\";position: absolute;border-left: 1px solid gray;box-sizing: border-box;top: 0;bottom: 0;left: 50%;z-index: 0;}#sk-container-id-1 div.sk-serial {display: flex;flex-direction: column;align-items: center;background-color: white;padding-right: 0.2em;padding-left: 0.2em;position: relative;}#sk-container-id-1 div.sk-item {position: relative;z-index: 1;}#sk-container-id-1 div.sk-parallel {display: flex;align-items: stretch;justify-content: center;background-color: white;position: relative;}#sk-container-id-1 div.sk-item::before, #sk-container-id-1 div.sk-parallel-item::before {content: \"\";position: absolute;border-left: 1px solid gray;box-sizing: border-box;top: 0;bottom: 0;left: 50%;z-index: -1;}#sk-container-id-1 div.sk-parallel-item {display: flex;flex-direction: column;z-index: 1;position: relative;background-color: white;}#sk-container-id-1 div.sk-parallel-item:first-child::after {align-self: flex-end;width: 50%;}#sk-container-id-1 div.sk-parallel-item:last-child::after {align-self: flex-start;width: 50%;}#sk-container-id-1 div.sk-parallel-item:only-child::after {width: 0;}#sk-container-id-1 div.sk-dashed-wrapped {border: 1px dashed gray;margin: 0 0.4em 0.5em 0.4em;box-sizing: border-box;padding-bottom: 0.4em;background-color: white;}#sk-container-id-1 div.sk-label label {font-family: monospace;font-weight: bold;display: inline-block;line-height: 1.2em;}#sk-container-id-1 div.sk-label-container {text-align: center;}#sk-container-id-1 div.sk-container {/* jupyter's `normalize.less` sets `[hidden] { display: none; }` but bootstrap.min.css set `[hidden] { display: none !important; }` so we also need the `!important` here to be able to override the default hidden behavior on the sphinx rendered scikit-learn.org. See: https://github.com/scikit-learn/scikit-learn/issues/21755 */display: inline-block !important;position: relative;}#sk-container-id-1 div.sk-text-repr-fallback {display: none;}</style><div id=\"sk-container-id-1\" class=\"sk-top-container\"><div class=\"sk-text-repr-fallback\"><pre>LinearRegression(fit_intercept=False)</pre><b>In a Jupyter environment, please rerun this cell to show the HTML representation or trust the notebook. <br />On GitHub, the HTML representation is unable to render, please try loading this page with nbviewer.org.</b></div><div class=\"sk-container\" hidden><div class=\"sk-item\"><div class=\"sk-estimator sk-toggleable\"><input class=\"sk-toggleable__control sk-hidden--visually\" id=\"sk-estimator-id-1\" type=\"checkbox\" checked><label for=\"sk-estimator-id-1\" class=\"sk-toggleable__label sk-toggleable__label-arrow\">LinearRegression</label><div class=\"sk-toggleable__content\"><pre>LinearRegression(fit_intercept=False)</pre></div></div></div></div></div>"
            ]
          },
          "metadata": {},
          "execution_count": 8
        }
      ]
    },
    {
      "cell_type": "code",
      "source": [
        "# Extract the model coefficients (theta)\n",
        "theta = model.coef_\n",
        "theta # theta0, theta1"
      ],
      "metadata": {
        "id": "fXpMqn9DuUk-",
        "colab": {
          "base_uri": "https://localhost:8080/"
        },
        "outputId": "874c49af-a80a-4532-f6df-6e08f371bcac"
      },
      "execution_count": 9,
      "outputs": [
        {
          "output_type": "execute_result",
          "data": {
            "text/plain": [
              "array([3.68568136, 0.98335392])"
            ]
          },
          "metadata": {},
          "execution_count": 9
        }
      ]
    },
    {
      "cell_type": "markdown",
      "source": [
        "θ𝟢 = 3.685 means if the review length is 0, the predicted rating is 3.685\n",
        "\n",
        "θ𝟣 = 0.983 means if the normalized review length go up by 1, the predicted rating go up by 0.983"
      ],
      "metadata": {
        "id": "g64BcZZpwV6w"
      }
    },
    {
      "cell_type": "code",
      "source": [
        "# we can plot the fitting line\n",
        "xplot = numpy.arange(0,1,0.01)\n",
        "yplot = [(theta[0] + theta[1]*x).item() for x in xplot]"
      ],
      "metadata": {
        "id": "KdCf28vpwANQ"
      },
      "execution_count": 10,
      "outputs": []
    },
    {
      "cell_type": "code",
      "source": [
        "ratings = [d['rating'] for d in dataset]\n",
        "lengths = [len(d['review_text']) for d in dataset]\n",
        "\n",
        "plt.scatter([l / maxLen for l in lengths], ratings, color='grey')\n",
        "plt.plot(numpy.array(xplot), yplot, color = 'k', linestyle = '--',\\\n",
        "         label = r\"3.685 + 0.983 * Review length\")\n",
        "plt.xlim(0, 1)\n",
        "plt.ylim(0.5, 5.5)\n",
        "plt.xlabel(\"Review length (characters)\")\n",
        "plt.ylabel(\"Rating\")\n",
        "plt.title(\"Rating vs. review length\")\n",
        "plt.legend(loc='lower right')\n",
        "plt.show()"
      ],
      "metadata": {
        "colab": {
          "base_uri": "https://localhost:8080/",
          "height": 472
        },
        "id": "Ty7K1imDxD1i",
        "outputId": "5f4924a8-d0e4-4ea9-d0be-f7a04fca504d"
      },
      "execution_count": 11,
      "outputs": [
        {
          "output_type": "display_data",
          "data": {
            "text/plain": [
              "<Figure size 640x480 with 1 Axes>"
            ],
            "image/png": "[encoded data removed]"
          },
          "metadata": {}
        }
      ]
    },
    {
      "cell_type": "markdown",
      "source": [
        "We can see that it is hard to predict rating just using a single line because we use only one feature (review length).\n",
        "\n",
        "One way the improve is to **use more features**."
      ],
      "metadata": {
        "id": "-zpLja1kyfCb"
      }
    },
    {
      "cell_type": "markdown",
      "source": [
        "### 2. Extend your model to include (in addition to the scaled length) features based on the time of the review.\n",
        "\n",
        "You can pares the time data as follows:"
      ],
      "metadata": {
        "id": "qFd7_x445HbO"
      }
    },
    {
      "cell_type": "code",
      "source": [
        "import dateutil.parser\n",
        "for d in dataset:\n",
        "    t = dateutil.parser.parse(d['date_added'])\n",
        "    d['parsed_date'] = t # add parsed date info to dataset"
      ],
      "metadata": {
        "id": "IKfhqLrwxW14"
      },
      "execution_count": 34,
      "outputs": []
    },
    {
      "cell_type": "code",
      "source": [
        "dataset[0]['parsed_date']"
      ],
      "metadata": {
        "colab": {
          "base_uri": "https://localhost:8080/"
        },
        "id": "zTR7q3vI50Q4",
        "outputId": "c9dbf2a5-4d72-4989-f830-6b379a6974db"
      },
      "execution_count": 35,
      "outputs": [
        {
          "output_type": "execute_result",
          "data": {
            "text/plain": [
              "datetime.datetime(2017, 7, 30, 7, 44, 10, tzinfo=tzoffset(None, -25200))"
            ]
          },
          "metadata": {},
          "execution_count": 35
        }
      ]
    },
    {
      "cell_type": "markdown",
      "source": [
        "Using a one-hot encoding for the weekday and month. Be careful not to include any redundant dimensions: e.g. your feature vector, including the offset term and the length feature, should contain no more than 19 dimensions.\n",
        "\n",
        "e.g. We present the first weekday as all zeros, We only need 6 spots for 7 days\n",
        "\n",
        "Monday = [0, 0, 0, 0, 0, 0]\n",
        "\n",
        "Tuesday = [1, 0, 0, 0, 0, 0]\n",
        "\n",
        "Wednesday = [0, 1, 0, 0, 0, 0]\n",
        "\n",
        "Thursday = [0, 0, 1, 0, 0, 0]\n",
        "\n",
        "Friday = [0, 0, 0, 1, 0, 0]\n",
        "\n",
        "Saturday = [0, 0, 0, 0, 1, 0]\n",
        "\n",
        "Sunday = [0, 0, 0, 0, 0, 1]"
      ],
      "metadata": {
        "id": "9pg8g7Ne6bhD"
      }
    },
    {
      "cell_type": "code",
      "source": [
        "def feature_onehot(datum):\n",
        "    f = [1, len(datum['review_text']) / maxLen] # offset term and normalized review length\n",
        "    pd = datum['parsed_date']\n",
        "    wday = [0] * 7 # one-hot encoding for weekdays\n",
        "    wday[pd.weekday()] = 1\n",
        "    mon = [0] * 12 # one-hot encoding for months\n",
        "    mon[pd.month - 1] = 1\n",
        "    return f + wday[1:] + mon[1:]"
      ],
      "metadata": {
        "id": "Q9kxOYMt5y5V"
      },
      "execution_count": 36,
      "outputs": []
    },
    {
      "cell_type": "code",
      "source": [
        "# Create features X and labels y\n",
        "X_onehot = [feature_onehot(d) for d in dataset]\n",
        "y_onehot = [d['rating'] for d in dataset]"
      ],
      "metadata": {
        "id": "6NW4gbNE7ifX"
      },
      "execution_count": 45,
      "outputs": []
    },
    {
      "cell_type": "code",
      "source": [
        "X_onehot[0], y_onehot[0]"
      ],
      "metadata": {
        "colab": {
          "base_uri": "https://localhost:8080/"
        },
        "id": "rv_F8zLN-Bzc",
        "outputId": "311fc3b3-797a-4977-812f-4f4c4ebb3afd"
      },
      "execution_count": 46,
      "outputs": [
        {
          "output_type": "execute_result",
          "data": {
            "text/plain": [
              "([1, 0.14581294561722355, 0, 0, 0, 0, 0, 1, 0, 0, 0, 0, 0, 1, 0, 0, 0, 0, 0],\n",
              " 5)"
            ]
          },
          "metadata": {},
          "execution_count": 46
        }
      ]
    },
    {
      "cell_type": "markdown",
      "source": [
        "### 3. Train 2 models\n",
        "\n",
        "1.   use the weekday and month values directly as features, i.e.,\n",
        "> star rating ≃ θ𝟢 + θ𝟣 × [review length in characters] + θ𝟤 × [t.weekday()] + θ𝟥 × [t.month]\n",
        "\n",
        "2.   use the one-hot encoding from Question 2.\n",
        "> star rating ≃ θ𝟢 + θ𝟣 × [review length in characters] + θ𝟤 × [weekdays one-hot] + θ𝟥 × [months one-hot]\n"
      ],
      "metadata": {
        "id": "q4iofMqv-weQ"
      }
    },
    {
      "cell_type": "markdown",
      "source": [
        "1.   use the weekday and month values directly as features"
      ],
      "metadata": {
        "id": "3Zt4zi-5LwhB"
      }
    },
    {
      "cell_type": "code",
      "source": [
        "def feature3(datum):\n",
        "    pd = datum['parsed_date']\n",
        "    f = [1, len(datum['review_text']) / maxLen, pd.weekday(), pd.month] # offset term, review length, weekday, month\n",
        "    return f"
      ],
      "metadata": {
        "id": "tkMcz4od942Y"
      },
      "execution_count": 40,
      "outputs": []
    },
    {
      "cell_type": "code",
      "source": [
        "X3 = [feature3(d) for d in dataset]\n",
        "y3 = [d['rating'] for d in dataset]"
      ],
      "metadata": {
        "id": "AUhBtmmRBo_6"
      },
      "execution_count": 41,
      "outputs": []
    },
    {
      "cell_type": "code",
      "source": [
        "# Fit a linear regression model to the data (sklearn)\n",
        "model3 = linear_model.LinearRegression(fit_intercept=False)\n",
        "model3.fit(X3, y3)"
      ],
      "metadata": {
        "colab": {
          "base_uri": "https://localhost:8080/",
          "height": 75
        },
        "id": "I-2V0lvVBAGz",
        "outputId": "faf4c2c4-37bf-428b-ec6e-41bf9774b945"
      },
      "execution_count": 51,
      "outputs": [
        {
          "output_type": "execute_result",
          "data": {
            "text/plain": [
              "LinearRegression(fit_intercept=False)"
            ],
            "text/html": [
              "<style>#sk-container-id-6 {color: black;background-color: white;}#sk-container-id-6 pre{padding: 0;}#sk-container-id-6 div.sk-toggleable {background-color: white;}#sk-container-id-6 label.sk-toggleable__label {cursor: pointer;display: block;width: 100%;margin-bottom: 0;padding: 0.3em;box-sizing: border-box;text-align: center;}#sk-container-id-6 label.sk-toggleable__label-arrow:before {content: \"▸\";float: left;margin-right: 0.25em;color: #696969;}#sk-container-id-6 label.sk-toggleable__label-arrow:hover:before {color: black;}#sk-container-id-6 div.sk-estimator:hover label.sk-toggleable__label-arrow:before {color: black;}#sk-container-id-6 div.sk-toggleable__content {max-height: 0;max-width: 0;overflow: hidden;text-align: left;background-color: #f0f8ff;}#sk-container-id-6 div.sk-toggleable__content pre {margin: 0.2em;color: black;border-radius: 0.25em;background-color: #f0f8ff;}#sk-container-id-6 input.sk-toggleable__control:checked~div.sk-toggleable__content {max-height: 200px;max-width: 100%;overflow: auto;}#sk-container-id-6 input.sk-toggleable__control:checked~label.sk-toggleable__label-arrow:before {content: \"▾\";}#sk-container-id-6 div.sk-estimator input.sk-toggleable__control:checked~label.sk-toggleable__label {background-color: #d4ebff;}#sk-container-id-6 div.sk-label input.sk-toggleable__control:checked~label.sk-toggleable__label {background-color: #d4ebff;}#sk-container-id-6 input.sk-hidden--visually {border: 0;clip: rect(1px 1px 1px 1px);clip: rect(1px, 1px, 1px, 1px);height: 1px;margin: -1px;overflow: hidden;padding: 0;position: absolute;width: 1px;}#sk-container-id-6 div.sk-estimator {font-family: monospace;background-color: #f0f8ff;border: 1px dotted black;border-radius: 0.25em;box-sizing: border-box;margin-bottom: 0.5em;}#sk-container-id-6 div.sk-estimator:hover {background-color: #d4ebff;}#sk-container-id-6 div.sk-parallel-item::after {content: \"\";width: 100%;border-bottom: 1px solid gray;flex-grow: 1;}#sk-container-id-6 div.sk-label:hover label.sk-toggleable__label {background-color: #d4ebff;}#sk-container-id-6 div.sk-serial::before {content: \"\";position: absolute;border-left: 1px solid gray;box-sizing: border-box;top: 0;bottom: 0;left: 50%;z-index: 0;}#sk-container-id-6 div.sk-serial {display: flex;flex-direction: column;align-items: center;background-color: white;padding-right: 0.2em;padding-left: 0.2em;position: relative;}#sk-container-id-6 div.sk-item {position: relative;z-index: 1;}#sk-container-id-6 div.sk-parallel {display: flex;align-items: stretch;justify-content: center;background-color: white;position: relative;}#sk-container-id-6 div.sk-item::before, #sk-container-id-6 div.sk-parallel-item::before {content: \"\";position: absolute;border-left: 1px solid gray;box-sizing: border-box;top: 0;bottom: 0;left: 50%;z-index: -1;}#sk-container-id-6 div.sk-parallel-item {display: flex;flex-direction: column;z-index: 1;position: relative;background-color: white;}#sk-container-id-6 div.sk-parallel-item:first-child::after {align-self: flex-end;width: 50%;}#sk-container-id-6 div.sk-parallel-item:last-child::after {align-self: flex-start;width: 50%;}#sk-container-id-6 div.sk-parallel-item:only-child::after {width: 0;}#sk-container-id-6 div.sk-dashed-wrapped {border: 1px dashed gray;margin: 0 0.4em 0.5em 0.4em;box-sizing: border-box;padding-bottom: 0.4em;background-color: white;}#sk-container-id-6 div.sk-label label {font-family: monospace;font-weight: bold;display: inline-block;line-height: 1.2em;}#sk-container-id-6 div.sk-label-container {text-align: center;}#sk-container-id-6 div.sk-container {/* jupyter's `normalize.less` sets `[hidden] { display: none; }` but bootstrap.min.css set `[hidden] { display: none !important; }` so we also need the `!important` here to be able to override the default hidden behavior on the sphinx rendered scikit-learn.org. See: https://github.com/scikit-learn/scikit-learn/issues/21755 */display: inline-block !important;position: relative;}#sk-container-id-6 div.sk-text-repr-fallback {display: none;}</style><div id=\"sk-container-id-6\" class=\"sk-top-container\"><div class=\"sk-text-repr-fallback\"><pre>LinearRegression(fit_intercept=False)</pre><b>In a Jupyter environment, please rerun this cell to show the HTML representation or trust the notebook. <br />On GitHub, the HTML representation is unable to render, please try loading this page with nbviewer.org.</b></div><div class=\"sk-container\" hidden><div class=\"sk-item\"><div class=\"sk-estimator sk-toggleable\"><input class=\"sk-toggleable__control sk-hidden--visually\" id=\"sk-estimator-id-6\" type=\"checkbox\" checked><label for=\"sk-estimator-id-6\" class=\"sk-toggleable__label sk-toggleable__label-arrow\">LinearRegression</label><div class=\"sk-toggleable__content\"><pre>LinearRegression(fit_intercept=False)</pre></div></div></div></div></div>"
            ]
          },
          "metadata": {},
          "execution_count": 51
        }
      ]
    },
    {
      "cell_type": "code",
      "source": [
        "# Extract the model coefficients (theta)\n",
        "theta3 = model3.coef_\n",
        "theta3 # There are 4 thetas, included (theta0, review length, weekdays, months)"
      ],
      "metadata": {
        "colab": {
          "base_uri": "https://localhost:8080/"
        },
        "id": "6do6Xi0RCBMJ",
        "outputId": "a31dbad3-c729-429b-a105-4fcde484d7ca"
      },
      "execution_count": 53,
      "outputs": [
        {
          "output_type": "execute_result",
          "data": {
            "text/plain": [
              "array([ 3.68774185,  0.98716703,  0.00968863, -0.00457118])"
            ]
          },
          "metadata": {},
          "execution_count": 53
        }
      ]
    },
    {
      "cell_type": "markdown",
      "source": [
        "2.   use the one-hot encoding from Question 2."
      ],
      "metadata": {
        "id": "ojyYP8ScL8qW"
      }
    },
    {
      "cell_type": "code",
      "source": [
        "# Fit a linear regression model to the data (sklearn)\n",
        "model_onehot = linear_model.LinearRegression(fit_intercept=False)\n",
        "model_onehot.fit(X_onehot, y_onehot)"
      ],
      "metadata": {
        "colab": {
          "base_uri": "https://localhost:8080/",
          "height": 75
        },
        "id": "VK_chm9VL9Ak",
        "outputId": "5aae090e-1a88-4e73-980e-548db9516338"
      },
      "execution_count": 67,
      "outputs": [
        {
          "output_type": "execute_result",
          "data": {
            "text/plain": [
              "LinearRegression(fit_intercept=False)"
            ],
            "text/html": [
              "<style>#sk-container-id-7 {color: black;background-color: white;}#sk-container-id-7 pre{padding: 0;}#sk-container-id-7 div.sk-toggleable {background-color: white;}#sk-container-id-7 label.sk-toggleable__label {cursor: pointer;display: block;width: 100%;margin-bottom: 0;padding: 0.3em;box-sizing: border-box;text-align: center;}#sk-container-id-7 label.sk-toggleable__label-arrow:before {content: \"▸\";float: left;margin-right: 0.25em;color: #696969;}#sk-container-id-7 label.sk-toggleable__label-arrow:hover:before {color: black;}#sk-container-id-7 div.sk-estimator:hover label.sk-toggleable__label-arrow:before {color: black;}#sk-container-id-7 div.sk-toggleable__content {max-height: 0;max-width: 0;overflow: hidden;text-align: left;background-color: #f0f8ff;}#sk-container-id-7 div.sk-toggleable__content pre {margin: 0.2em;color: black;border-radius: 0.25em;background-color: #f0f8ff;}#sk-container-id-7 input.sk-toggleable__control:checked~div.sk-toggleable__content {max-height: 200px;max-width: 100%;overflow: auto;}#sk-container-id-7 input.sk-toggleable__control:checked~label.sk-toggleable__label-arrow:before {content: \"▾\";}#sk-container-id-7 div.sk-estimator input.sk-toggleable__control:checked~label.sk-toggleable__label {background-color: #d4ebff;}#sk-container-id-7 div.sk-label input.sk-toggleable__control:checked~label.sk-toggleable__label {background-color: #d4ebff;}#sk-container-id-7 input.sk-hidden--visually {border: 0;clip: rect(1px 1px 1px 1px);clip: rect(1px, 1px, 1px, 1px);height: 1px;margin: -1px;overflow: hidden;padding: 0;position: absolute;width: 1px;}#sk-container-id-7 div.sk-estimator {font-family: monospace;background-color: #f0f8ff;border: 1px dotted black;border-radius: 0.25em;box-sizing: border-box;margin-bottom: 0.5em;}#sk-container-id-7 div.sk-estimator:hover {background-color: #d4ebff;}#sk-container-id-7 div.sk-parallel-item::after {content: \"\";width: 100%;border-bottom: 1px solid gray;flex-grow: 1;}#sk-container-id-7 div.sk-label:hover label.sk-toggleable__label {background-color: #d4ebff;}#sk-container-id-7 div.sk-serial::before {content: \"\";position: absolute;border-left: 1px solid gray;box-sizing: border-box;top: 0;bottom: 0;left: 50%;z-index: 0;}#sk-container-id-7 div.sk-serial {display: flex;flex-direction: column;align-items: center;background-color: white;padding-right: 0.2em;padding-left: 0.2em;position: relative;}#sk-container-id-7 div.sk-item {position: relative;z-index: 1;}#sk-container-id-7 div.sk-parallel {display: flex;align-items: stretch;justify-content: center;background-color: white;position: relative;}#sk-container-id-7 div.sk-item::before, #sk-container-id-7 div.sk-parallel-item::before {content: \"\";position: absolute;border-left: 1px solid gray;box-sizing: border-box;top: 0;bottom: 0;left: 50%;z-index: -1;}#sk-container-id-7 div.sk-parallel-item {display: flex;flex-direction: column;z-index: 1;position: relative;background-color: white;}#sk-container-id-7 div.sk-parallel-item:first-child::after {align-self: flex-end;width: 50%;}#sk-container-id-7 div.sk-parallel-item:last-child::after {align-self: flex-start;width: 50%;}#sk-container-id-7 div.sk-parallel-item:only-child::after {width: 0;}#sk-container-id-7 div.sk-dashed-wrapped {border: 1px dashed gray;margin: 0 0.4em 0.5em 0.4em;box-sizing: border-box;padding-bottom: 0.4em;background-color: white;}#sk-container-id-7 div.sk-label label {font-family: monospace;font-weight: bold;display: inline-block;line-height: 1.2em;}#sk-container-id-7 div.sk-label-container {text-align: center;}#sk-container-id-7 div.sk-container {/* jupyter's `normalize.less` sets `[hidden] { display: none; }` but bootstrap.min.css set `[hidden] { display: none !important; }` so we also need the `!important` here to be able to override the default hidden behavior on the sphinx rendered scikit-learn.org. See: https://github.com/scikit-learn/scikit-learn/issues/21755 */display: inline-block !important;position: relative;}#sk-container-id-7 div.sk-text-repr-fallback {display: none;}</style><div id=\"sk-container-id-7\" class=\"sk-top-container\"><div class=\"sk-text-repr-fallback\"><pre>LinearRegression(fit_intercept=False)</pre><b>In a Jupyter environment, please rerun this cell to show the HTML representation or trust the notebook. <br />On GitHub, the HTML representation is unable to render, please try loading this page with nbviewer.org.</b></div><div class=\"sk-container\" hidden><div class=\"sk-item\"><div class=\"sk-estimator sk-toggleable\"><input class=\"sk-toggleable__control sk-hidden--visually\" id=\"sk-estimator-id-7\" type=\"checkbox\" checked><label for=\"sk-estimator-id-7\" class=\"sk-toggleable__label sk-toggleable__label-arrow\">LinearRegression</label><div class=\"sk-toggleable__content\"><pre>LinearRegression(fit_intercept=False)</pre></div></div></div></div></div>"
            ]
          },
          "metadata": {},
          "execution_count": 67
        }
      ]
    },
    {
      "cell_type": "code",
      "source": [
        "# Extract the model coefficients (theta)\n",
        "theta_onehot = model_onehot.coef_\n",
        "theta_onehot # There are 19 thetas, included (theta0, review length, 6 thetas for weekdays, 11 thetas for months)"
      ],
      "metadata": {
        "colab": {
          "base_uri": "https://localhost:8080/"
        },
        "id": "TEC5wjiFMINB",
        "outputId": "9b012d40-b7df-415d-df5c-84f426125163"
      },
      "execution_count": 68,
      "outputs": [
        {
          "output_type": "execute_result",
          "data": {
            "text/plain": [
              "array([ 3.75140188e+00, -7.03522435e-02, -3.80551209e-02,  3.73721892e-03,\n",
              "        6.93141433e-02, -1.50087754e-02, -9.96762687e-02,  2.31782857e-02,\n",
              "       -1.23345819e-01, -2.41107291e-02,  2.95825559e-02,  9.44765224e-03,\n",
              "       -3.03154970e-02,  8.83894467e-02,  7.44512440e-04,  1.06874106e-02,\n",
              "       -2.48957575e-02,  3.75625754e-02, -2.44154390e-03])"
            ]
          },
          "metadata": {},
          "execution_count": 68
        }
      ]
    },
    {
      "cell_type": "markdown",
      "source": [
        "### 4. Split the data into a training and test set.\n",
        "\n",
        "Lst's Split the data into 50%/50% train/test fractions.\n",
        "\n",
        "After training on the training set, report the MSE of the two models."
      ],
      "metadata": {
        "id": "VytDUqwFJcC0"
      }
    },
    {
      "cell_type": "code",
      "source": [
        "# We can use random seed\n",
        "import random\n",
        "random.seed(0)\n",
        "random.shuffle(dataset)"
      ],
      "metadata": {
        "id": "GToDnlt9JrTu"
      },
      "execution_count": 62,
      "outputs": []
    },
    {
      "cell_type": "code",
      "source": [
        "X_onehot = [feature_onehot(d) for d in dataset]\n",
        "X3 = [feature3(d) for d in dataset]\n",
        "y = [d['rating'] for d in dataset]"
      ],
      "metadata": {
        "id": "9rKLGcunHcon"
      },
      "execution_count": 63,
      "outputs": []
    },
    {
      "cell_type": "code",
      "source": [
        "train_onehot, test_onehot = X_onehot[:len(X_onehot)//2], X_onehot[len(X_onehot)//2:]\n",
        "train3, test3 = X3[:len(X3)//2], X3[len(X3)//2:]\n",
        "trainY, testY = y[:len(y)//2], y[len(y)//2:]"
      ],
      "metadata": {
        "id": "pUioBb5eHpy-"
      },
      "execution_count": 64,
      "outputs": []
    },
    {
      "cell_type": "code",
      "source": [
        "model_onehot = linear_model.LinearRegression()\n",
        "model_onehot.fit(train_onehot,trainY)\n",
        "pred_onehot = model_onehot.predict(test_onehot)\n",
        "test_mse_onehot = sum([(yp - yt)**2 for (yp,yt) in zip(pred_onehot, testY)]) / len(testY)\n",
        "\n",
        "model3.fit(train3,trainY)\n",
        "pred3 = model3.predict(test3)\n",
        "test_mse3 = sum([(yp - yt)**2 for (yp,yt) in zip(pred3, testY)]) / len(testY)"
      ],
      "metadata": {
        "id": "OPpv72uaHuVr"
      },
      "execution_count": 65,
      "outputs": []
    },
    {
      "cell_type": "code",
      "source": [
        "test_mse_onehot, test_mse3"
      ],
      "metadata": {
        "colab": {
          "base_uri": "https://localhost:8080/"
        },
        "id": "tYBxu-r_IhfT",
        "outputId": "d6732d70-261f-4a2d-d52e-acb39336c658"
      },
      "execution_count": 66,
      "outputs": [
        {
          "output_type": "execute_result",
          "data": {
            "text/plain": [
              "(1.6264453676167878, 1.628291947617607)"
            ]
          },
          "metadata": {},
          "execution_count": 66
        }
      ]
    },
    {
      "cell_type": "code",
      "source": [],
      "metadata": {
        "id": "gG3FgQPEJRLS"
      },
      "execution_count": null,
      "outputs": []
    },
    {
      "cell_type": "markdown",
      "source": [
        "## Beers rating prediction (classification)\n",
        "\n",
        "Using the beer review data, we’ll try to predict ratings (positive or negative) based on characteristics of beer reviews. Load the 50,000 beer review dataset, and construct a label vector by considering\n",
        "whether a review score is four or above, i.e.,\n",
        "> y = [ d[ ’review/overall’ ] >= 4 for d in dataset ]\n",
        "\n",
        "Dataset:\n",
        "Beer Reviews: https://cseweb.ucsd.edu/classes/fa23/cse258-a/data/beer_50000.json"
      ],
      "metadata": {
        "id": "OnjjL5tCPIE8"
      }
    },
    {
      "cell_type": "code",
      "source": [
        "# Get the data\n",
        "!wget 'https://cseweb.ucsd.edu/classes/fa23/cse258-a/data/beer_50000.json'\n",
        "f = open(\"beer_50000.json\")\n",
        "dataset = []\n",
        "for l in f:\n",
        "    dataset.append(eval(l))"
      ],
      "metadata": {
        "colab": {
          "base_uri": "https://localhost:8080/"
        },
        "id": "UJ4i7kTHPOZT",
        "outputId": "0950f670-73de-4fa8-8499-7d25a22cb9b3"
      },
      "execution_count": 70,
      "outputs": [
        {
          "output_type": "stream",
          "name": "stdout",
          "text": [
            "--2023-11-25 20:52:39--  https://cseweb.ucsd.edu/classes/fa23/cse258-a/data/beer_50000.json\n",
            "Resolving cseweb.ucsd.edu (cseweb.ucsd.edu)... 132.239.8.30\n",
            "Connecting to cseweb.ucsd.edu (cseweb.ucsd.edu)|132.239.8.30|:443... connected.\n",
            "HTTP request sent, awaiting response... 200 OK\n",
            "Length: 61156124 (58M) [application/json]\n",
            "Saving to: ‘beer_50000.json.1’\n",
            "\n",
            "beer_50000.json.1   100%[===================>]  58.32M   172MB/s    in 0.3s    \n",
            "\n",
            "2023-11-25 20:52:40 (172 MB/s) - ‘beer_50000.json.1’ saved [61156124/61156124]\n",
            "\n"
          ]
        }
      ]
    },
    {
      "cell_type": "code",
      "source": [
        "# What the data looks like\n",
        "dataset[0]"
      ],
      "metadata": {
        "colab": {
          "base_uri": "https://localhost:8080/"
        },
        "id": "2Io6IElPQUry",
        "outputId": "292e5317-fc88-424b-9699-538a9fbc9562"
      },
      "execution_count": 71,
      "outputs": [
        {
          "output_type": "execute_result",
          "data": {
            "text/plain": [
              "{'review/appearance': 2.5,\n",
              " 'beer/style': 'Hefeweizen',\n",
              " 'review/palate': 1.5,\n",
              " 'review/taste': 1.5,\n",
              " 'beer/name': 'Sausa Weizen',\n",
              " 'review/timeUnix': 1234817823,\n",
              " 'beer/ABV': 5.0,\n",
              " 'beer/beerId': '47986',\n",
              " 'beer/brewerId': '10325',\n",
              " 'review/timeStruct': {'isdst': 0,\n",
              "  'mday': 16,\n",
              "  'hour': 20,\n",
              "  'min': 57,\n",
              "  'sec': 3,\n",
              "  'mon': 2,\n",
              "  'year': 2009,\n",
              "  'yday': 47,\n",
              "  'wday': 0},\n",
              " 'review/overall': 1.5,\n",
              " 'review/text': 'A lot of foam. But a lot.\\tIn the smell some banana, and then lactic and tart. Not a good start.\\tQuite dark orange in color, with a lively carbonation (now visible, under the foam).\\tAgain tending to lactic sourness.\\tSame for the taste. With some yeast and banana.',\n",
              " 'user/profileName': 'stcules',\n",
              " 'review/aroma': 2.0}"
            ]
          },
          "metadata": {},
          "execution_count": 71
        }
      ]
    },
    {
      "cell_type": "markdown",
      "source": [
        "### 1. Fit a logistic regressor that estimates the binarized score from review length\n",
        "\n",
        "> p (rating is positive) ≃ σ( θ𝟢 + θ𝟣 × [length] )\n",
        "\n",
        "Using the class weight=’balanced’.\n",
        "\n",
        "We'll calculate the numbers of True Positives, True Negatives, False\n",
        "Positives, False Negatives, and the Balanced Error Rate of the classifier."
      ],
      "metadata": {
        "id": "fdNFou3mQ6Rc"
      }
    },
    {
      "cell_type": "code",
      "source": [
        "# Predict the user's review from the length of their review\n",
        "# Create the features X and labels y\n",
        "X = [[1, len(d['review/text'])] for d in dataset] # offset term and review length\n",
        "y = [d['review/overall'] >= 4 for d in dataset] # True if rating >=4"
      ],
      "metadata": {
        "id": "s5d1h--nQqWR"
      },
      "execution_count": 72,
      "outputs": []
    },
    {
      "cell_type": "markdown",
      "source": [
        "sklearn logistic regression model: https://scikit-learn.org/stable/modules/generated/sklearn.linear_model.LogisticRegression.html"
      ],
      "metadata": {
        "id": "JfGU2Xz5Sm6a"
      }
    },
    {
      "cell_type": "code",
      "source": [
        "# Fit a logistic regression model to the data (sklearn)\n",
        "model = linear_model.LogisticRegression(class_weight='balanced')\n",
        "model.fit(X, y)"
      ],
      "metadata": {
        "colab": {
          "base_uri": "https://localhost:8080/",
          "height": 75
        },
        "id": "6nuL0NmcSS6K",
        "outputId": "250496cd-b306-4f34-ac3f-c51b69dff2db"
      },
      "execution_count": 74,
      "outputs": [
        {
          "output_type": "execute_result",
          "data": {
            "text/plain": [
              "LogisticRegression(class_weight='balanced')"
            ],
            "text/html": [
              "<style>#sk-container-id-8 {color: black;background-color: white;}#sk-container-id-8 pre{padding: 0;}#sk-container-id-8 div.sk-toggleable {background-color: white;}#sk-container-id-8 label.sk-toggleable__label {cursor: pointer;display: block;width: 100%;margin-bottom: 0;padding: 0.3em;box-sizing: border-box;text-align: center;}#sk-container-id-8 label.sk-toggleable__label-arrow:before {content: \"▸\";float: left;margin-right: 0.25em;color: #696969;}#sk-container-id-8 label.sk-toggleable__label-arrow:hover:before {color: black;}#sk-container-id-8 div.sk-estimator:hover label.sk-toggleable__label-arrow:before {color: black;}#sk-container-id-8 div.sk-toggleable__content {max-height: 0;max-width: 0;overflow: hidden;text-align: left;background-color: #f0f8ff;}#sk-container-id-8 div.sk-toggleable__content pre {margin: 0.2em;color: black;border-radius: 0.25em;background-color: #f0f8ff;}#sk-container-id-8 input.sk-toggleable__control:checked~div.sk-toggleable__content {max-height: 200px;max-width: 100%;overflow: auto;}#sk-container-id-8 input.sk-toggleable__control:checked~label.sk-toggleable__label-arrow:before {content: \"▾\";}#sk-container-id-8 div.sk-estimator input.sk-toggleable__control:checked~label.sk-toggleable__label {background-color: #d4ebff;}#sk-container-id-8 div.sk-label input.sk-toggleable__control:checked~label.sk-toggleable__label {background-color: #d4ebff;}#sk-container-id-8 input.sk-hidden--visually {border: 0;clip: rect(1px 1px 1px 1px);clip: rect(1px, 1px, 1px, 1px);height: 1px;margin: -1px;overflow: hidden;padding: 0;position: absolute;width: 1px;}#sk-container-id-8 div.sk-estimator {font-family: monospace;background-color: #f0f8ff;border: 1px dotted black;border-radius: 0.25em;box-sizing: border-box;margin-bottom: 0.5em;}#sk-container-id-8 div.sk-estimator:hover {background-color: #d4ebff;}#sk-container-id-8 div.sk-parallel-item::after {content: \"\";width: 100%;border-bottom: 1px solid gray;flex-grow: 1;}#sk-container-id-8 div.sk-label:hover label.sk-toggleable__label {background-color: #d4ebff;}#sk-container-id-8 div.sk-serial::before {content: \"\";position: absolute;border-left: 1px solid gray;box-sizing: border-box;top: 0;bottom: 0;left: 50%;z-index: 0;}#sk-container-id-8 div.sk-serial {display: flex;flex-direction: column;align-items: center;background-color: white;padding-right: 0.2em;padding-left: 0.2em;position: relative;}#sk-container-id-8 div.sk-item {position: relative;z-index: 1;}#sk-container-id-8 div.sk-parallel {display: flex;align-items: stretch;justify-content: center;background-color: white;position: relative;}#sk-container-id-8 div.sk-item::before, #sk-container-id-8 div.sk-parallel-item::before {content: \"\";position: absolute;border-left: 1px solid gray;box-sizing: border-box;top: 0;bottom: 0;left: 50%;z-index: -1;}#sk-container-id-8 div.sk-parallel-item {display: flex;flex-direction: column;z-index: 1;position: relative;background-color: white;}#sk-container-id-8 div.sk-parallel-item:first-child::after {align-self: flex-end;width: 50%;}#sk-container-id-8 div.sk-parallel-item:last-child::after {align-self: flex-start;width: 50%;}#sk-container-id-8 div.sk-parallel-item:only-child::after {width: 0;}#sk-container-id-8 div.sk-dashed-wrapped {border: 1px dashed gray;margin: 0 0.4em 0.5em 0.4em;box-sizing: border-box;padding-bottom: 0.4em;background-color: white;}#sk-container-id-8 div.sk-label label {font-family: monospace;font-weight: bold;display: inline-block;line-height: 1.2em;}#sk-container-id-8 div.sk-label-container {text-align: center;}#sk-container-id-8 div.sk-container {/* jupyter's `normalize.less` sets `[hidden] { display: none; }` but bootstrap.min.css set `[hidden] { display: none !important; }` so we also need the `!important` here to be able to override the default hidden behavior on the sphinx rendered scikit-learn.org. See: https://github.com/scikit-learn/scikit-learn/issues/21755 */display: inline-block !important;position: relative;}#sk-container-id-8 div.sk-text-repr-fallback {display: none;}</style><div id=\"sk-container-id-8\" class=\"sk-top-container\"><div class=\"sk-text-repr-fallback\"><pre>LogisticRegression(class_weight=&#x27;balanced&#x27;)</pre><b>In a Jupyter environment, please rerun this cell to show the HTML representation or trust the notebook. <br />On GitHub, the HTML representation is unable to render, please try loading this page with nbviewer.org.</b></div><div class=\"sk-container\" hidden><div class=\"sk-item\"><div class=\"sk-estimator sk-toggleable\"><input class=\"sk-toggleable__control sk-hidden--visually\" id=\"sk-estimator-id-8\" type=\"checkbox\" checked><label for=\"sk-estimator-id-8\" class=\"sk-toggleable__label sk-toggleable__label-arrow\">LogisticRegression</label><div class=\"sk-toggleable__content\"><pre>LogisticRegression(class_weight=&#x27;balanced&#x27;)</pre></div></div></div></div></div>"
            ]
          },
          "metadata": {},
          "execution_count": 74
        }
      ]
    },
    {
      "cell_type": "code",
      "source": [
        "# Make predictions\n",
        "predictions = model.predict(X) # Binary vector of predictions\n",
        "predictions"
      ],
      "metadata": {
        "colab": {
          "base_uri": "https://localhost:8080/"
        },
        "id": "u6e1KL3wUPJo",
        "outputId": "3f0b3f9f-8a1f-421a-ac9d-37cdb4fb84de"
      },
      "execution_count": 76,
      "outputs": [
        {
          "output_type": "execute_result",
          "data": {
            "text/plain": [
              "array([False, False, False, ..., False,  True, False])"
            ]
          },
          "metadata": {},
          "execution_count": 76
        }
      ]
    },
    {
      "cell_type": "code",
      "source": [
        "# True Positives, True Negatives, False Positives, False Negatives\n",
        "TP = sum([(p and l) for (p,l) in zip(predictions, y)])\n",
        "TN = sum([(not p and not l) for (p,l) in zip(predictions, y)])\n",
        "FP = sum([(p and not l) for (p,l) in zip(predictions, y)])\n",
        "FN = sum([(not p and l) for (p,l) in zip(predictions, y)])"
      ],
      "metadata": {
        "id": "eeuQVXDbUruJ"
      },
      "execution_count": 80,
      "outputs": []
    },
    {
      "cell_type": "code",
      "source": [
        "# True positive and true negative rates\n",
        "TPR = TP / (TP + FN)\n",
        "TNR = TN / (TN + FP)\n",
        "TPR, TNR"
      ],
      "metadata": {
        "colab": {
          "base_uri": "https://localhost:8080/"
        },
        "id": "HpxfDAOsVPQ1",
        "outputId": "486ab388-3cab-4c1b-df71-d590a1aedb14"
      },
      "execution_count": 81,
      "outputs": [
        {
          "output_type": "execute_result",
          "data": {
            "text/plain": [
              "(0.4224979174104487, 0.6408957773980962)"
            ]
          },
          "metadata": {},
          "execution_count": 81
        }
      ]
    },
    {
      "cell_type": "code",
      "source": [
        "# BER\n",
        "BER = 1 - 1/2 * (TPR + TNR)\n",
        "BER"
      ],
      "metadata": {
        "colab": {
          "base_uri": "https://localhost:8080/"
        },
        "id": "WI8gFs2TVUiD",
        "outputId": "fbfeaa58-1ab9-4071-fdd8-fba8a579a0e7"
      },
      "execution_count": 82,
      "outputs": [
        {
          "output_type": "execute_result",
          "data": {
            "text/plain": [
              "0.4683031525957275"
            ]
          },
          "metadata": {},
          "execution_count": 82
        }
      ]
    },
    {
      "cell_type": "markdown",
      "source": [
        "### 2. Compute the precision@K of the classifier for K ∈ {1, 100, 1000, 10000}\n",
        "\n",
        "To calculate precision@K, we need to first sort the predict results based on the confidiences (scores)"
      ],
      "metadata": {
        "id": "WJG8pADcWL1X"
      }
    },
    {
      "cell_type": "code",
      "source": [
        "# get the confidiences (scores)\n",
        "confidences = model.decision_function(X) # real vector of confidences\n",
        "confidences"
      ],
      "metadata": {
        "colab": {
          "base_uri": "https://localhost:8080/"
        },
        "id": "-2fR0gQ9VjMs",
        "outputId": "0d0d554e-0a1a-4054-a5d6-989d4992cfb3"
      },
      "execution_count": 84,
      "outputs": [
        {
          "output_type": "execute_result",
          "data": {
            "text/plain": [
              "array([-0.15815583, -0.13125069, -0.11071781, ..., -0.02398413,\n",
              "        0.09673501, -0.09195502])"
            ]
          },
          "metadata": {},
          "execution_count": 84
        }
      ]
    },
    {
      "cell_type": "code",
      "source": [
        "# sort the confiences and zip it with label y\n",
        "sortedByConfidence = list(zip(confidences ,y))\n",
        "sortedByConfidence.sort(reverse=True)\n",
        "sortedByConfidence[:10]"
      ],
      "metadata": {
        "colab": {
          "base_uri": "https://localhost:8080/"
        },
        "id": "OYDkeyN2W6c4",
        "outputId": "5333c596-aca6-4d5e-acd0-5abd7e777cdd"
      },
      "execution_count": 86,
      "outputs": [
        {
          "output_type": "execute_result",
          "data": {
            "text/plain": [
              "[(1.42039730878528, True),\n",
              " (1.4087148118877324, True),\n",
              " (1.3478242219974843, True),\n",
              " (1.3127767313048417, True),\n",
              " (1.2858715869347321, True),\n",
              " (1.2582584124496197, True),\n",
              " (1.22391895187198, False),\n",
              " (1.1994919129043804, True),\n",
              " (1.1803750997993026, True),\n",
              " (1.174356843821778, False)]"
            ]
          },
          "metadata": {},
          "execution_count": 86
        }
      ]
    },
    {
      "cell_type": "code",
      "source": [
        "# Compput the precision@K\n",
        "precs = []\n",
        "for k in [1,100,1000,10000]:\n",
        "    precision_at_k = sum([sortedByConfidence[i][1] for i in range(k)]) / k\n",
        "    precs.append(precision_at_k)\n",
        "    print(\"Precision@\" + str(k) + \" = \" + str(precision_at_k))\n",
        "precs"
      ],
      "metadata": {
        "colab": {
          "base_uri": "https://localhost:8080/"
        },
        "id": "cX05MGc2XK4I",
        "outputId": "f7fb694e-9792-4ae9-e77d-26282a329614"
      },
      "execution_count": 88,
      "outputs": [
        {
          "output_type": "stream",
          "name": "stdout",
          "text": [
            "Precision@1 = 1.0\n",
            "Precision@100 = 0.75\n",
            "Precision@1000 = 0.71\n",
            "Precision@10000 = 0.7147\n"
          ]
        },
        {
          "output_type": "execute_result",
          "data": {
            "text/plain": [
              "[1.0, 0.75, 0.71, 0.7147]"
            ]
          },
          "metadata": {},
          "execution_count": 88
        }
      ]
    },
    {
      "cell_type": "markdown",
      "source": [
        "### 3. Improve the predictor\n",
        "\n",
        "specifically, reduce the balanced error rate by incorporating additional features from the data (e.g. beer styles, ratings, features from text, etc.)"
      ],
      "metadata": {
        "id": "4lZscEAGXk8P"
      }
    },
    {
      "cell_type": "code",
      "source": [
        "# Predict the user's review by incorporating review length, beer/ABV and beer/brewerId from the data\n",
        "def feature(d):\n",
        "    feat = [1] # offset term\n",
        "    feat.append(len(d['review/text']))\n",
        "    feat.append(d['beer/ABV'])\n",
        "    feat.append(int(d['beer/brewerId']))\n",
        "    return feat"
      ],
      "metadata": {
        "id": "vP7eKhpiXakw"
      },
      "execution_count": 89,
      "outputs": []
    },
    {
      "cell_type": "code",
      "source": [
        "X = [feature(d) for d in dataset]\n",
        "y = [d['review/overall'] >= 4 for d in dataset]"
      ],
      "metadata": {
        "id": "mhds_2fKX4yA"
      },
      "execution_count": 90,
      "outputs": []
    },
    {
      "cell_type": "code",
      "source": [
        "X[0], y[0]"
      ],
      "metadata": {
        "colab": {
          "base_uri": "https://localhost:8080/"
        },
        "id": "5j_Z2Mi9YExX",
        "outputId": "20ad5cd3-8d5c-43cf-e8be-fce8c91366b8"
      },
      "execution_count": 91,
      "outputs": [
        {
          "output_type": "execute_result",
          "data": {
            "text/plain": [
              "([1, 262, 5.0, 10325], False)"
            ]
          },
          "metadata": {},
          "execution_count": 91
        }
      ]
    },
    {
      "cell_type": "code",
      "source": [
        "# Using the class weight=’balanced’ option\n",
        "model = linear_model.LogisticRegression(class_weight='balanced')\n",
        "model.fit(X, y)"
      ],
      "metadata": {
        "colab": {
          "base_uri": "https://localhost:8080/",
          "height": 75
        },
        "id": "G6FBkWnHYIOU",
        "outputId": "c7120941-b662-4caf-cf2a-bde02ce9e5b3"
      },
      "execution_count": 95,
      "outputs": [
        {
          "output_type": "execute_result",
          "data": {
            "text/plain": [
              "LogisticRegression(class_weight='balanced')"
            ],
            "text/html": [
              "<style>#sk-container-id-9 {color: black;background-color: white;}#sk-container-id-9 pre{padding: 0;}#sk-container-id-9 div.sk-toggleable {background-color: white;}#sk-container-id-9 label.sk-toggleable__label {cursor: pointer;display: block;width: 100%;margin-bottom: 0;padding: 0.3em;box-sizing: border-box;text-align: center;}#sk-container-id-9 label.sk-toggleable__label-arrow:before {content: \"▸\";float: left;margin-right: 0.25em;color: #696969;}#sk-container-id-9 label.sk-toggleable__label-arrow:hover:before {color: black;}#sk-container-id-9 div.sk-estimator:hover label.sk-toggleable__label-arrow:before {color: black;}#sk-container-id-9 div.sk-toggleable__content {max-height: 0;max-width: 0;overflow: hidden;text-align: left;background-color: #f0f8ff;}#sk-container-id-9 div.sk-toggleable__content pre {margin: 0.2em;color: black;border-radius: 0.25em;background-color: #f0f8ff;}#sk-container-id-9 input.sk-toggleable__control:checked~div.sk-toggleable__content {max-height: 200px;max-width: 100%;overflow: auto;}#sk-container-id-9 input.sk-toggleable__control:checked~label.sk-toggleable__label-arrow:before {content: \"▾\";}#sk-container-id-9 div.sk-estimator input.sk-toggleable__control:checked~label.sk-toggleable__label {background-color: #d4ebff;}#sk-container-id-9 div.sk-label input.sk-toggleable__control:checked~label.sk-toggleable__label {background-color: #d4ebff;}#sk-container-id-9 input.sk-hidden--visually {border: 0;clip: rect(1px 1px 1px 1px);clip: rect(1px, 1px, 1px, 1px);height: 1px;margin: -1px;overflow: hidden;padding: 0;position: absolute;width: 1px;}#sk-container-id-9 div.sk-estimator {font-family: monospace;background-color: #f0f8ff;border: 1px dotted black;border-radius: 0.25em;box-sizing: border-box;margin-bottom: 0.5em;}#sk-container-id-9 div.sk-estimator:hover {background-color: #d4ebff;}#sk-container-id-9 div.sk-parallel-item::after {content: \"\";width: 100%;border-bottom: 1px solid gray;flex-grow: 1;}#sk-container-id-9 div.sk-label:hover label.sk-toggleable__label {background-color: #d4ebff;}#sk-container-id-9 div.sk-serial::before {content: \"\";position: absolute;border-left: 1px solid gray;box-sizing: border-box;top: 0;bottom: 0;left: 50%;z-index: 0;}#sk-container-id-9 div.sk-serial {display: flex;flex-direction: column;align-items: center;background-color: white;padding-right: 0.2em;padding-left: 0.2em;position: relative;}#sk-container-id-9 div.sk-item {position: relative;z-index: 1;}#sk-container-id-9 div.sk-parallel {display: flex;align-items: stretch;justify-content: center;background-color: white;position: relative;}#sk-container-id-9 div.sk-item::before, #sk-container-id-9 div.sk-parallel-item::before {content: \"\";position: absolute;border-left: 1px solid gray;box-sizing: border-box;top: 0;bottom: 0;left: 50%;z-index: -1;}#sk-container-id-9 div.sk-parallel-item {display: flex;flex-direction: column;z-index: 1;position: relative;background-color: white;}#sk-container-id-9 div.sk-parallel-item:first-child::after {align-self: flex-end;width: 50%;}#sk-container-id-9 div.sk-parallel-item:last-child::after {align-self: flex-start;width: 50%;}#sk-container-id-9 div.sk-parallel-item:only-child::after {width: 0;}#sk-container-id-9 div.sk-dashed-wrapped {border: 1px dashed gray;margin: 0 0.4em 0.5em 0.4em;box-sizing: border-box;padding-bottom: 0.4em;background-color: white;}#sk-container-id-9 div.sk-label label {font-family: monospace;font-weight: bold;display: inline-block;line-height: 1.2em;}#sk-container-id-9 div.sk-label-container {text-align: center;}#sk-container-id-9 div.sk-container {/* jupyter's `normalize.less` sets `[hidden] { display: none; }` but bootstrap.min.css set `[hidden] { display: none !important; }` so we also need the `!important` here to be able to override the default hidden behavior on the sphinx rendered scikit-learn.org. See: https://github.com/scikit-learn/scikit-learn/issues/21755 */display: inline-block !important;position: relative;}#sk-container-id-9 div.sk-text-repr-fallback {display: none;}</style><div id=\"sk-container-id-9\" class=\"sk-top-container\"><div class=\"sk-text-repr-fallback\"><pre>LogisticRegression(class_weight=&#x27;balanced&#x27;)</pre><b>In a Jupyter environment, please rerun this cell to show the HTML representation or trust the notebook. <br />On GitHub, the HTML representation is unable to render, please try loading this page with nbviewer.org.</b></div><div class=\"sk-container\" hidden><div class=\"sk-item\"><div class=\"sk-estimator sk-toggleable\"><input class=\"sk-toggleable__control sk-hidden--visually\" id=\"sk-estimator-id-9\" type=\"checkbox\" checked><label for=\"sk-estimator-id-9\" class=\"sk-toggleable__label sk-toggleable__label-arrow\">LogisticRegression</label><div class=\"sk-toggleable__content\"><pre>LogisticRegression(class_weight=&#x27;balanced&#x27;)</pre></div></div></div></div></div>"
            ]
          },
          "metadata": {},
          "execution_count": 95
        }
      ]
    },
    {
      "cell_type": "code",
      "source": [
        "predictions = model.predict(X)\n",
        "predictions"
      ],
      "metadata": {
        "colab": {
          "base_uri": "https://localhost:8080/"
        },
        "id": "M1EGEzL8YQvm",
        "outputId": "a28fb1ee-9a30-4a4b-e85d-287e61337a4d"
      },
      "execution_count": 96,
      "outputs": [
        {
          "output_type": "execute_result",
          "data": {
            "text/plain": [
              "array([False, False, False, ...,  True,  True,  True])"
            ]
          },
          "metadata": {},
          "execution_count": 96
        }
      ]
    },
    {
      "cell_type": "code",
      "source": [
        "# True positives, False positives (etc.), and balanced error rate (BER)\n",
        "TP = sum([(p and l) for (p,l) in zip(predictions, y)])\n",
        "TN = sum([(not p and not l) for (p,l) in zip(predictions, y)])\n",
        "FP = sum([(p and not l) for (p,l) in zip(predictions, y)])\n",
        "FN = sum([(not p and l) for (p,l) in zip(predictions, y)])\n",
        "\n",
        "# True positive and true negative rates\n",
        "TPR = TP / (TP + FN)\n",
        "TNR = TN / (TN + FP)\n",
        "\n",
        "BER = 1 - 1/2 * (TPR + TNR)\n",
        "BER"
      ],
      "metadata": {
        "colab": {
          "base_uri": "https://localhost:8080/"
        },
        "id": "ozbJzK-PYSvY",
        "outputId": "e74650b8-4db0-4c4e-a0a5-7dd1627cfae3"
      },
      "execution_count": 97,
      "outputs": [
        {
          "output_type": "execute_result",
          "data": {
            "text/plain": [
              "0.40920242506112414"
            ]
          },
          "metadata": {},
          "execution_count": 97
        }
      ]
    },
    {
      "cell_type": "markdown",
      "source": [
        "The BER reduce after using more features"
      ],
      "metadata": {
        "id": "yDjmHkYnYuUu"
      }
    }
  ]
}